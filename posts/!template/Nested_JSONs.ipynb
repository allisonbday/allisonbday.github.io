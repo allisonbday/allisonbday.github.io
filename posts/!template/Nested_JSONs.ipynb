{
  "cells": [
    {
      "cell_type": "raw",
      "metadata": {},
      "source": [
        "---\n",
        "title: \"Working with Nested JSONs\"\n",
        "description: \"Post description\"\n",
        "author: \"Allison Day\"\n",
        "date: \"11/6/2022\"\n",
        "categories: [APIs, JSON]\n",
        "# image: timp.jpg\n",
        "draft: true\n",
        "---"
      ],
      "id": "6b17d90e"
    },
    {
      "cell_type": "code",
      "metadata": {},
      "source": [
        "#| code-fold: true\n",
        "#| code-summary: \"Imports\"\n",
        "\n",
        "# this is code-fold\n",
        "import pandas as pd\n",
        "import json\n",
        "\n",
        "json_raw = \"code/json_example.json\"\n",
        "with open(json_raw) as json_data:\n",
        "    json_example = json.load(json_data)"
      ],
      "id": "3993dee7",
      "execution_count": null,
      "outputs": []
    },
    {
      "cell_type": "markdown",
      "metadata": {},
      "source": [
        "Lets say pulled an API and it gave you this json:\n",
        "```json\n",
        "{\n",
        "    \"Total\": 1,\n",
        "    \"Page\": 1,\n",
        "    \"Products\": [\n",
        "        {\n",
        "            \"ID\": 12345,\n",
        "            \"SKU\": \"Clownfish\",\n",
        "            \"Name\": \"Nemo\",\n",
        "            \"Suppliers\": [\n",
        "                {\n",
        "                    \"SupplierID\": \"67891\",\n",
        "                    \"SupplierName\": \"Little Fish Inc\",\n",
        "                    \"Cost\": 5.99\n",
        "                },\n",
        "                {\n",
        "                    \"SupplierID\": \"24601\",\n",
        "                    \"SupplierName\": \"Large Pond Co\",\n",
        "                    \"Cost\": 5.59\n",
        "                }\n",
        "            ],\n",
        "            \"PriceTiers\": {\n",
        "                \"Public Retail Price\": 24.99,\n",
        "                \"Employee Price\": 6.0\n",
        "            }\n",
        "        }\n",
        "    ]\n",
        "}\n",
        "```\n",
        "\n",
        "# Basic"
      ],
      "id": "2df836f9"
    },
    {
      "cell_type": "code",
      "metadata": {},
      "source": [
        "df = pd.json_normalize(\n",
        "    json_example, \n",
        "    record_path=[\"Products\"],\n",
        "    errors=\"ignore\",\n",
        "    )\n",
        "\n",
        "print(df.to_markdown())"
      ],
      "id": "a0137331",
      "execution_count": null,
      "outputs": []
    },
    {
      "cell_type": "markdown",
      "metadata": {},
      "source": [
        "# By Suppliers"
      ],
      "id": "3f218e86"
    },
    {
      "cell_type": "code",
      "metadata": {},
      "source": [
        "df = pd.json_normalize(\n",
        "    json_example,\n",
        "    record_path=[\"Products\", \"Suppliers\"],\n",
        "    meta=[\n",
        "        [\"Products\"],\n",
        "    ],\n",
        "    errors=\"ignore\",\n",
        ")\n",
        "\n",
        "print(df.to_markdown())"
      ],
      "id": "b75d8412",
      "execution_count": null,
      "outputs": []
    },
    {
      "cell_type": "markdown",
      "metadata": {},
      "source": [
        "# Get Product Columns"
      ],
      "id": "3501be50"
    },
    {
      "cell_type": "code",
      "metadata": {},
      "source": [
        "df = pd.json_normalize(\n",
        "    json_example,\n",
        "    record_path=[\"Products\", \"Suppliers\"],\n",
        "    meta=[\n",
        "        [\"Products\", \"ID\"],\n",
        "        [\"Products\", \"SKU\"],\n",
        "        [\"Products\", \"Name\"],\n",
        "        [\"Products\", \"PriceTiers\"], \n",
        "    ],\n",
        "    errors=\"ignore\",\n",
        ")\n",
        "\n",
        "print(df.to_markdown())"
      ],
      "id": "da3fe959",
      "execution_count": null,
      "outputs": []
    },
    {
      "cell_type": "markdown",
      "metadata": {},
      "source": [
        "# Include all of the sub dictionary columns too"
      ],
      "id": "17eb988f"
    },
    {
      "cell_type": "code",
      "metadata": {},
      "source": [
        "df = pd.json_normalize(\n",
        "    json_example,\n",
        "    record_path=[\"Products\", \"Suppliers\"],\n",
        "    meta=[\n",
        "        [\"Products\", \"ID\"],\n",
        "        [\"Products\", \"SKU\"],\n",
        "        [\"Products\", \"Name\"],\n",
        "        [\"Products\", \"PriceTiers\", \"Public Retail Price\"], \n",
        "        [\"Products\", \"PriceTiers\", \"Employee Price\"]\n",
        "    ],\n",
        "    errors=\"ignore\",\n",
        ")\n",
        "\n",
        "print(df.to_markdown())"
      ],
      "id": "2217a18c",
      "execution_count": null,
      "outputs": []
    }
  ],
  "metadata": {
    "kernelspec": {
      "display_name": "Python 3",
      "language": "python",
      "name": "python3"
    }
  },
  "nbformat": 4,
  "nbformat_minor": 5
}